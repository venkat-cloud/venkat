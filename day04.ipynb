{
 "cells": [
  {
   "cell_type": "markdown",
   "metadata": {},
   "source": [
    "## string functions\n",
    "- upper() -- converts input string into upper case\n",
    "- lower() -- converts input string into lower case"
   ]
  },
  {
   "cell_type": "code",
   "execution_count": 1,
   "metadata": {},
   "outputs": [
    {
     "name": "stdout",
     "output_type": "stream",
     "text": [
      "DFGHJ\n",
      "dfghj\n"
     ]
    }
   ],
   "source": [
    "s1='dfghj'\n",
    "print(s1.upper())\n",
    "print(s1.lower())"
   ]
  },
  {
   "cell_type": "markdown",
   "metadata": {},
   "source": [
    "## striong boolean function\n",
    "- true or false\n",
    "- islower() -- true if the string have all the lower case characters\n",
    "- isupper() -- true if the string have all the upper case characters \n",
    "- isnumeric() -- true if string is having only numbers\n",
    "- istitle() -- true if string is in title case\n",
    "- isalpha() -- true if string contains only alphabets\n",
    "- isspace() -- true if the string is space"
   ]
  },
  {
   "cell_type": "code",
   "execution_count": 2,
   "metadata": {},
   "outputs": [
    {
     "name": "stdout",
     "output_type": "stream",
     "text": [
      "True\n",
      "False\n"
     ]
    }
   ],
   "source": [
    "s1='python'\n",
    "print(s1.islower())\n",
    "print(s1.isupper())"
   ]
  },
  {
   "cell_type": "code",
   "execution_count": 4,
   "metadata": {},
   "outputs": [
    {
     "name": "stdout",
     "output_type": "stream",
     "text": [
      "True\n",
      "False\n"
     ]
    }
   ],
   "source": [
    "s1='Python Programming'\n",
    "s2='Python programming'\n",
    "print(s1.istitle())\n",
    "print(s2.istitle())"
   ]
  },
  {
   "cell_type": "code",
   "execution_count": 5,
   "metadata": {},
   "outputs": [
    {
     "name": "stdout",
     "output_type": "stream",
     "text": [
      "True\n",
      "False\n"
     ]
    }
   ],
   "source": [
    "s1='1234587654'\n",
    "s2='hjioj3456'\n",
    "print(s1.isnumeric())\n",
    "print(s2.isnumeric())"
   ]
  },
  {
   "cell_type": "code",
   "execution_count": 6,
   "metadata": {},
   "outputs": [
    {
     "name": "stdout",
     "output_type": "stream",
     "text": [
      "True\n",
      "False\n"
     ]
    }
   ],
   "source": [
    "s1='dfghjkjhg'\n",
    "s2='2345hjkl'\n",
    "print(s1.isalpha())\n",
    "print(s2.isalpha())"
   ]
  },
  {
   "cell_type": "code",
   "execution_count": 8,
   "metadata": {},
   "outputs": [
    {
     "name": "stdout",
     "output_type": "stream",
     "text": [
      "True\n",
      "False\n"
     ]
    }
   ],
   "source": [
    "s1='    '\n",
    "print(s1.isspace())\n",
    "s2='gfghg gvhggh'\n",
    "print(s2.isspace())"
   ]
  },
  {
   "cell_type": "markdown",
   "metadata": {},
   "source": [
    "## string method\n",
    "- split()\n",
    "- replace()\n",
    "- join()"
   ]
  },
  {
   "cell_type": "code",
   "execution_count": 9,
   "metadata": {},
   "outputs": [
    {
     "name": "stdout",
     "output_type": "stream",
     "text": [
      "['python', 'programming', 'learn', 'made', 'easy']\n",
      "['python progr', 'mming le', 'rn m', 'de e', 'sy']\n"
     ]
    }
   ],
   "source": [
    "s1='python programming learn made easy'\n",
    "l1=s1.split()\n",
    "l2=s1.split('a')\n",
    "print(l1)\n",
    "print(l2)\n"
   ]
  },
  {
   "cell_type": "code",
   "execution_count": 15,
   "metadata": {},
   "outputs": [
    {
     "name": "stdout",
     "output_type": "stream",
     "text": [
      "python-programming-learn-made-easy\n",
      "python progr@mming le@rn m@de e@sy\n"
     ]
    }
   ],
   "source": [
    "s1='python programming learn made easy'\n",
    "print(s1.replace(' ','-'))\n",
    "print(s1.replace('a','@'))"
   ]
  },
  {
   "cell_type": "code",
   "execution_count": 13,
   "metadata": {},
   "outputs": [
    {
     "name": "stdout",
     "output_type": "stream",
     "text": [
      "p y t h o n\n"
     ]
    }
   ],
   "source": [
    "s='python'\n",
    "print(' '.join(s))"
   ]
  },
  {
   "cell_type": "markdown",
   "metadata": {},
   "source": [
    "## string formatting\n",
    "- classic version\n",
    "- current version"
   ]
  },
  {
   "cell_type": "code",
   "execution_count": 18,
   "metadata": {},
   "outputs": [
    {
     "name": "stdout",
     "output_type": "stream",
     "text": [
      "python programming \n",
      "1 2 3 4\n"
     ]
    }
   ],
   "source": [
    "#classic version\n",
    "li=[\"python\",'programming']\n",
    "print('%s %s '% (li[0],li[1]))\n",
    "l2=[1,2,3,4]\n",
    "print('%d %d %d %d' %(l2[0],l2[1],l2[2],l2[3]))"
   ]
  },
  {
   "cell_type": "code",
   "execution_count": 26,
   "metadata": {},
   "outputs": [
    {
     "name": "stdout",
     "output_type": "stream",
     "text": [
      "first item is : 3\n",
      "second item is :4\n"
     ]
    }
   ],
   "source": [
    "# .format\n",
    "li=[1,2,3,4]\n",
    "print(\"first item is : {0}\\nsecond item is :{1}\".format(li[2],li[3]))"
   ]
  },
  {
   "cell_type": "markdown",
   "metadata": {},
   "source": [
    "## data structures\n",
    "- list\n",
    "- tuples\n",
    "- dictionaries"
   ]
  },
  {
   "cell_type": "markdown",
   "metadata": {},
   "source": [
    "### dictionaries\n",
    "- it works on concept of unique data\n",
    "- key,value is the unique identifier a value\n",
    "- each key is seperated from value by colon(:)\n",
    "- dictionaries are enclosed in curly brackets{}"
   ]
  },
  {
   "cell_type": "code",
   "execution_count": 54,
   "metadata": {},
   "outputs": [
    {
     "name": "stdout",
     "output_type": "stream",
     "text": [
      "{'name': 'gitam', 'email': 'vbnmklk@gmail.com', 'address': 'fghj ghjk tyui hjg'}\n"
     ]
    }
   ],
   "source": [
    "d1={'name':\"gitam\",\"email\":\"vbnmklk@gmail.com\",\"address\":\"fghj ghjk tyui hjg\" }\n",
    "print(d1)\n"
   ]
  },
  {
   "cell_type": "code",
   "execution_count": 31,
   "metadata": {},
   "outputs": [
    {
     "data": {
      "text/plain": [
       "'vbnmklk@gmail.com'"
      ]
     },
     "execution_count": 31,
     "metadata": {},
     "output_type": "execute_result"
    }
   ],
   "source": [
    "d1['email'] #accessing data using key"
   ]
  },
  {
   "cell_type": "code",
   "execution_count": 46,
   "metadata": {},
   "outputs": [
    {
     "name": "stdout",
     "output_type": "stream",
     "text": [
      "{'name': 'gitam', 'email': 'vgbhjnikiuhg@gmail.com', 'address': 'fghj ghjk tyui hjg'}\n"
     ]
    }
   ],
   "source": [
    "d1[\"email\"]='vgbhjnikiuhg@gmail.com' #updating a key value\n",
    "print(d1)"
   ]
  },
  {
   "cell_type": "code",
   "execution_count": 51,
   "metadata": {},
   "outputs": [
    {
     "name": "stdout",
     "output_type": "stream",
     "text": [
      "dict_keys(['name', 'address'])\n"
     ]
    }
   ],
   "source": [
    "li=d1.keys() #access all keys in d1\n",
    "print(li)"
   ]
  },
  {
   "cell_type": "code",
   "execution_count": 36,
   "metadata": {},
   "outputs": [
    {
     "data": {
      "text/plain": [
       "dict_values(['gitam', 'vgbhjnikiuhg@gmail.com', 'fghj ghjk tyui hjg'])"
      ]
     },
     "execution_count": 36,
     "metadata": {},
     "output_type": "execute_result"
    }
   ],
   "source": [
    "d1.values()"
   ]
  },
  {
   "cell_type": "code",
   "execution_count": 47,
   "metadata": {},
   "outputs": [
    {
     "name": "stdout",
     "output_type": "stream",
     "text": [
      "{'name': 'gitam', 'address': 'fghj ghjk tyui hjg'}\n"
     ]
    }
   ],
   "source": [
    "del d1['email'] #deletes key from dictionary\n",
    "print(d1)"
   ]
  },
  {
   "cell_type": "code",
   "execution_count": 55,
   "metadata": {},
   "outputs": [],
   "source": [
    "del d1 #deletes dictionary"
   ]
  },
  {
   "cell_type": "markdown",
   "metadata": {},
   "source": [
    "## contact application\n",
    "- add contact details\n",
    "- search\n",
    "- import and merge\n",
    "- edit contact details\n",
    "- delete contact"
   ]
  },
  {
   "cell_type": "code",
   "execution_count": 63,
   "metadata": {},
   "outputs": [
    {
     "name": "stdout",
     "output_type": "stream",
     "text": [
      "contact is added\n",
      "contact is added\n"
     ]
    }
   ],
   "source": [
    "contacts={}\n",
    "def addcontact(name,phone):\n",
    "    if name not in contacts:\n",
    "        contacts[name]=phone\n",
    "        print('contact is added')\n",
    "    else:\n",
    "        print('name is already taken')\n",
    "addcontact('venkat','9494949943')  \n",
    "addcontact('vishnu','7993366301')"
   ]
  },
  {
   "cell_type": "code",
   "execution_count": 59,
   "metadata": {},
   "outputs": [
    {
     "name": "stdout",
     "output_type": "stream",
     "text": [
      "enter name to search venkat\n",
      "venkat : 9494949943\n"
     ]
    }
   ],
   "source": [
    "def search(name):\n",
    "    if name in contacts:\n",
    "        print(name,':',contacts[name])\n",
    "    else:\n",
    "        return print(name,'not exist in contacts')\n",
    "search(input('enter name to search '))"
   ]
  },
  {
   "cell_type": "code",
   "execution_count": 65,
   "metadata": {},
   "outputs": [
    {
     "name": "stdout",
     "output_type": "stream",
     "text": [
      "3  contacts are added\n"
     ]
    }
   ],
   "source": [
    "def importcontacts(newc):\n",
    "    contacts.update(newc)\n",
    "    print(len(newc.keys()),' contacts are added')\n",
    "    return\n",
    "newcontacts={'charan':'7730853655','sanjay':'8099445566','vinay':'9441957513'}\n",
    "importcontacts(newcontacts)"
   ]
  },
  {
   "cell_type": "code",
   "execution_count": 66,
   "metadata": {},
   "outputs": [
    {
     "data": {
      "text/plain": [
       "{'venkat': '9494949943',\n",
       " 'vishnu': '7993366301',\n",
       " 'charan': '7730853655',\n",
       " 'sanjay': '8099445566',\n",
       " 'vinay': '9441957513'}"
      ]
     },
     "execution_count": 66,
     "metadata": {},
     "output_type": "execute_result"
    }
   ],
   "source": [
    "contacts"
   ]
  },
  {
   "cell_type": "code",
   "execution_count": 70,
   "metadata": {},
   "outputs": [
    {
     "name": "stdout",
     "output_type": "stream",
     "text": [
      "venkat number is updated\n"
     ]
    }
   ],
   "source": [
    "def modifycontact(name,phone):\n",
    "    if name in contacts:\n",
    "        contacts[name]=phone\n",
    "        print('{0} number is updated'.format(name))\n",
    "    else:\n",
    "        print(name,'not in contacts')\n",
    "modifycontact('venkat',9494624976)"
   ]
  },
  {
   "cell_type": "code",
   "execution_count": 71,
   "metadata": {},
   "outputs": [
    {
     "data": {
      "text/plain": [
       "{'venkat': 9494624976,\n",
       " 'vishnu': '7993366301',\n",
       " 'charan': '7730853655',\n",
       " 'sanjay': '8099445566',\n",
       " 'vinay': '9441957513'}"
      ]
     },
     "execution_count": 71,
     "metadata": {},
     "output_type": "execute_result"
    }
   ],
   "source": [
    "contacts"
   ]
  },
  {
   "cell_type": "code",
   "execution_count": 73,
   "metadata": {},
   "outputs": [
    {
     "name": "stdout",
     "output_type": "stream",
     "text": [
      "contact doesn't exist\n",
      "contact doesn't exist\n"
     ]
    }
   ],
   "source": [
    "def deletecontact(name):\n",
    "    if name in contacts:\n",
    "        del contacts[name]\n",
    "        print(name,\"contact is deleted\")\n",
    "    else:\n",
    "        print(\"contact doesn't exist\")\n",
    "deletecontact('vishnu')\n",
    "deletecontact('dinesh')"
   ]
  },
  {
   "cell_type": "code",
   "execution_count": 74,
   "metadata": {},
   "outputs": [
    {
     "data": {
      "text/plain": [
       "{'venkat': 9494624976,\n",
       " 'charan': '7730853655',\n",
       " 'sanjay': '8099445566',\n",
       " 'vinay': '9441957513'}"
      ]
     },
     "execution_count": 74,
     "metadata": {},
     "output_type": "execute_result"
    }
   ],
   "source": [
    "contacts"
   ]
  },
  {
   "cell_type": "markdown",
   "metadata": {},
   "source": [
    "### tupels\n",
    "- tupels enclosed with paranthesis\n",
    "### difference between tupel and list\n",
    "- lists are mutable -- can be modified\n",
    " - read and write the data\n",
    "- tuples are immutable -- cannot be modified \n",
    " - read data only"
   ]
  },
  {
   "cell_type": "code",
   "execution_count": 75,
   "metadata": {},
   "outputs": [
    {
     "name": "stdout",
     "output_type": "stream",
     "text": [
      "(1, 2, 3, 4)\n"
     ]
    }
   ],
   "source": [
    "t=(1,2,3,4)\n",
    "print(t)"
   ]
  },
  {
   "cell_type": "markdown",
   "metadata": {},
   "source": [
    "### standard libraries\n",
    "- regular expression\n",
    "  - to validate the indian mobile number\n",
    "  - to validate email\n",
    "  - to validte username\n",
    "  - to validate password\n",
    "- understanding the regular expression\n",
    "  - [0-9]-- any digit matching\n",
    "  - [a-z]-- any lower case\n",
    "  - [A-Z] -- any upper case\n",
    "  - cap symbol  used to represent start of expression"
   ]
  },
  {
   "cell_type": "code",
   "execution_count": 78,
   "metadata": {},
   "outputs": [
    {
     "name": "stdout",
     "output_type": "stream",
     "text": [
      "123\n"
     ]
    },
    {
     "data": {
      "text/plain": [
       "False"
      ]
     },
     "execution_count": 78,
     "metadata": {},
     "output_type": "execute_result"
    }
   ],
   "source": [
    "# function to validate a input number\n",
    "import re #package for regular expression\n",
    "def twodigitmatching(n):\n",
    "    if re.match('^[0-9]{2}$',n):\n",
    "        return True\n",
    "    else:\n",
    "        return False\n",
    "    return\n",
    "twodigitmatching(input())"
   ]
  },
  {
   "cell_type": "code",
   "execution_count": 5,
   "metadata": {},
   "outputs": [
    {
     "name": "stdout",
     "output_type": "stream",
     "text": [
      "venkat\n",
      "valid username\n"
     ]
    }
   ],
   "source": [
    "# function to validate username\n",
    "from re import match as match\n",
    "def validateusername(n):\n",
    "    pattern='^[a-zA-Z]{5,12}$'\n",
    "    if match(pattern,n):\n",
    "        print('valid username')\n",
    "    else:\n",
    "        print('invalid username')\n",
    "validateusername(input())"
   ]
  },
  {
   "cell_type": "code",
   "execution_count": 4,
   "metadata": {},
   "outputs": [
    {
     "name": "stdout",
     "output_type": "stream",
     "text": [
      "+919494624976\n"
     ]
    },
    {
     "data": {
      "text/plain": [
       "True"
      ]
     },
     "execution_count": 4,
     "metadata": {},
     "output_type": "execute_result"
    }
   ],
   "source": [
    "import re\n",
    "def validateindianphone(n):\n",
    "    pattern='^[6-9][0-9]{9}$|^[0][6-9][0-9]{9}$|^[+][9][1][6-9][0-9]{9}$'\n",
    "    if re.match(pattern,n):\n",
    "        return True\n",
    "    else:\n",
    "        return False\n",
    "validateindianphone(input())"
   ]
  },
  {
   "cell_type": "markdown",
   "metadata": {},
   "source": [
    "### validate emailid\n",
    "- example : username@domain.extension\n",
    "- example : 121710318046@gitam.in"
   ]
  },
  {
   "cell_type": "code",
   "execution_count": 7,
   "metadata": {},
   "outputs": [
    {
     "name": "stdout",
     "output_type": "stream",
     "text": [
      "venkat_234@gmail.com\n"
     ]
    },
    {
     "data": {
      "text/plain": [
       "True"
      ]
     },
     "execution_count": 7,
     "metadata": {},
     "output_type": "execute_result"
    }
   ],
   "source": [
    "from re import match as match\n",
    "def valiemail(n):\n",
    "    pattern='^[a-zA-Z0-9][a-zA-Z0-9_.]{6,32}[@][a-zA-Z0-9]{3,18}[.][a-z.]{2,4}$'\n",
    "    if match(pattern,n):\n",
    "        return True\n",
    "    else:\n",
    "        return False\n",
    "valiemail(input())    "
   ]
  },
  {
   "cell_type": "markdown",
   "metadata": {},
   "source": [
    "### python graphics\n",
    "- library-turtel"
   ]
  },
  {
   "cell_type": "code",
   "execution_count": 9,
   "metadata": {},
   "outputs": [
    {
     "data": {
      "text/plain": [
       "124"
      ]
     },
     "execution_count": 9,
     "metadata": {},
     "output_type": "execute_result"
    }
   ],
   "source": [
    "import math #imports all functions in math package\n",
    "math.ceil(123.46)"
   ]
  },
  {
   "cell_type": "code",
   "execution_count": 3,
   "metadata": {},
   "outputs": [
    {
     "data": {
      "text/plain": [
       "123"
      ]
     },
     "execution_count": 3,
     "metadata": {},
     "output_type": "execute_result"
    }
   ],
   "source": [
    "\n",
    "math.floor(123.46)"
   ]
  },
  {
   "cell_type": "code",
   "execution_count": 10,
   "metadata": {},
   "outputs": [
    {
     "data": {
      "text/plain": [
       "3628800"
      ]
     },
     "execution_count": 10,
     "metadata": {},
     "output_type": "execute_result"
    }
   ],
   "source": [
    "from math import factorial as fact #imports only factorial functions from math package\n",
    "fact(10)"
   ]
  },
  {
   "cell_type": "code",
   "execution_count": 18,
   "metadata": {},
   "outputs": [
    {
     "name": "stdout",
     "output_type": "stream",
     "text": [
      "5\n",
      "3 9 1 6 3 "
     ]
    }
   ],
   "source": [
    "#import random package \n",
    "import random\n",
    "#function to generate n random numbers\n",
    "def genrannumbers(n):\n",
    "    for i in range(n):\n",
    "        print(random.randint(0,9),end=' ') #randint(0,9) function generates random integers between 0 and 9\n",
    "    return\n",
    "genrannumbers(int(input()))"
   ]
  },
  {
   "cell_type": "code",
   "execution_count": 2,
   "metadata": {},
   "outputs": [
    {
     "name": "stdout",
     "output_type": "stream",
     "text": [
      "5708\n"
     ]
    }
   ],
   "source": [
    "from random import randint as randint\n",
    "def ran(l,u):\n",
    "    print( randint(l,u))   \n",
    "ran(1000,9999)"
   ]
  },
  {
   "cell_type": "code",
   "execution_count": null,
   "metadata": {},
   "outputs": [],
   "source": [
    "# generate 20 random numbers and save them in a list\n",
    "# input : enter a number\n",
    "# present : congrats!!!\n",
    "# not present : try again"
   ]
  },
  {
   "cell_type": "code",
   "execution_count": 14,
   "metadata": {},
   "outputs": [
    {
     "name": "stdout",
     "output_type": "stream",
     "text": [
      "enter lower bound100\n",
      "enter upper bound200\n",
      "enter number to check112\n",
      "congrats!!\n",
      "[185, 135, 105, 158, 161, 133, 108, 180, 174, 199, 116, 200, 150, 102, 112, 144, 146, 152, 188, 114]\n"
     ]
    }
   ],
   "source": [
    "\n",
    "from random import randint as randint\n",
    "def gen(l,u):\n",
    "    li=[]\n",
    "    for i in range(20):\n",
    "        li.append(randint(l,u))\n",
    "    return li\n",
    "def check():\n",
    "    a=int(input('enter lower bound'))\n",
    "    b=int(input('enter upper bound'))\n",
    "    li=gen(a,b)\n",
    "    n=int(input('enter number to check'))\n",
    "    if n in li:\n",
    "        print('congrats!!')\n",
    "    else:\n",
    "        print('try again!!!')\n",
    "    print(li)\n",
    "check()"
   ]
  },
  {
   "cell_type": "code",
   "execution_count": null,
   "metadata": {},
   "outputs": [],
   "source": []
  },
  {
   "cell_type": "code",
   "execution_count": null,
   "metadata": {},
   "outputs": [],
   "source": []
  },
  {
   "cell_type": "code",
   "execution_count": null,
   "metadata": {},
   "outputs": [],
   "source": []
  },
  {
   "cell_type": "code",
   "execution_count": null,
   "metadata": {},
   "outputs": [],
   "source": []
  }
 ],
 "metadata": {
  "kernelspec": {
   "display_name": "Python 3",
   "language": "python",
   "name": "python3"
  },
  "language_info": {
   "codemirror_mode": {
    "name": "ipython",
    "version": 3
   },
   "file_extension": ".py",
   "mimetype": "text/x-python",
   "name": "python",
   "nbconvert_exporter": "python",
   "pygments_lexer": "ipython3",
   "version": "3.7.3"
  }
 },
 "nbformat": 4,
 "nbformat_minor": 2
}
