{
 "cells": [
  {
   "cell_type": "markdown",
   "metadata": {},
   "source": [
    "## programming in python with strings\n",
    "- strings\n",
    "- string slicing\n",
    "- fundamental programs and examples with strings"
   ]
  },
  {
   "cell_type": "code",
   "execution_count": null,
   "metadata": {},
   "outputs": [],
   "source": [
    "s1='fggj'\n",
    "s2=\"vgvgbj\"\n",
    "s3='A'\n",
    "print(type(s1))\n",
    "print(type(s2))\n",
    "print(type(s3))"
   ]
  },
  {
   "cell_type": "markdown",
   "metadata": {},
   "source": [
    "### string slicing"
   ]
  },
  {
   "cell_type": "code",
   "execution_count": 34,
   "metadata": {},
   "outputs": [
    {
     "name": "stdout",
     "output_type": "stream",
     "text": [
      "b\n",
      "h\n",
      "7\n",
      "g\n",
      "g\n",
      "y\n"
     ]
    }
   ],
   "source": [
    "s='bhjfyhg'\n",
    "print(s[0])\n",
    "print(s[5])\n",
    "print(len(s))\n",
    "print(s[len(s)-1])\n",
    "print(s[-1])\n",
    "print(s[-3])"
   ]
  },
  {
   "cell_type": "code",
   "execution_count": 7,
   "metadata": {},
   "outputs": [
    {
     "data": {
      "text/plain": [
       "'k5tkyy'"
      ]
     },
     "execution_count": 7,
     "metadata": {},
     "output_type": "execute_result"
    }
   ],
   "source": [
    "s='hk5tkyyi'\n",
    "s[:-1]\n",
    "s[0:2] #access elements from index 0 to 2\n",
    "s[-2:] #acess last two elements\n",
    "s[3:] #it access string from 3rd character\n",
    "s[1:-1] #access all characters except 1st and last "
   ]
  },
  {
   "cell_type": "code",
   "execution_count": 36,
   "metadata": {},
   "outputs": [
    {
     "data": {
      "text/plain": [
       "'ghyfjhb'"
      ]
     },
     "execution_count": 36,
     "metadata": {},
     "output_type": "execute_result"
    }
   ],
   "source": [
    "\n",
    "s[-1::-1] #gives reverse of string"
   ]
  },
  {
   "cell_type": "code",
   "execution_count": 37,
   "metadata": {},
   "outputs": [
    {
     "data": {
      "text/plain": [
       "'bjyg'"
      ]
     },
     "execution_count": 37,
     "metadata": {},
     "output_type": "execute_result"
    }
   ],
   "source": [
    "s[::2] #access alternative characters from string"
   ]
  },
  {
   "cell_type": "code",
   "execution_count": 40,
   "metadata": {},
   "outputs": [
    {
     "data": {
      "text/plain": [
       "'gyjb'"
      ]
     },
     "execution_count": 40,
     "metadata": {},
     "output_type": "execute_result"
    }
   ],
   "source": [
    "s[::-2] #access alternative characters from string in reverse order"
   ]
  },
  {
   "cell_type": "code",
   "execution_count": 39,
   "metadata": {},
   "outputs": [
    {
     "data": {
      "text/plain": [
       "'bfg'"
      ]
     },
     "execution_count": 39,
     "metadata": {},
     "output_type": "execute_result"
    }
   ],
   "source": [
    "s[::3] #"
   ]
  },
  {
   "cell_type": "markdown",
   "metadata": {},
   "source": [
    "## functions with a string operations"
   ]
  },
  {
   "cell_type": "code",
   "execution_count": 44,
   "metadata": {},
   "outputs": [
    {
     "data": {
      "text/plain": [
       "'ftfgf'"
      ]
     },
     "execution_count": 44,
     "metadata": {},
     "output_type": "execute_result"
    }
   ],
   "source": [
    "def reverse(n):\n",
    " return n[-1::-1]\n",
    "reverse (\"fgftf\")"
   ]
  },
  {
   "cell_type": "code",
   "execution_count": 51,
   "metadata": {},
   "outputs": [
    {
     "name": "stdout",
     "output_type": "stream",
     "text": [
      "malayalam  is a palindrome\n"
     ]
    }
   ],
   "source": [
    "def palindrome(n):\n",
    "    if n==n[-1::-1]:\n",
    "        print(n,' is a palindrome')\n",
    "    else :\n",
    "        print(n,' is not a palindrome')\n",
    "palindrome('malayalam')              "
   ]
  },
  {
   "cell_type": "code",
   "execution_count": 56,
   "metadata": {},
   "outputs": [
    {
     "name": "stdout",
     "output_type": "stream",
     "text": [
      "D H H J "
     ]
    }
   ],
   "source": [
    "# function to print uppercase from string\n",
    "#ASCII\n",
    "#A-z=65-90\n",
    "#a-z=97-122\n",
    "#0-9=48-57\n",
    "#space=32\n",
    "\n",
    "def printupper(s):\n",
    "    for i in range(len(s)):\n",
    "      if ord(s[i])>=65 and ord(s[i])<91 : #ord(s[i]) gives ascii value of character s[i]\n",
    "            print(s[i],end=' ')\n",
    "printupper(\"DgjfgugHHhjJ\")            "
   ]
  },
  {
   "cell_type": "code",
   "execution_count": 84,
   "metadata": {},
   "outputs": [
    {
     "name": "stdout",
     "output_type": "stream",
     "text": [
      "UUUUaaaa\n",
      "samecount\n"
     ]
    }
   ],
   "source": [
    "def counting(s1):\n",
    "    count1=0\n",
    "    count2=0\n",
    "    for i in range(len(s1)):\n",
    "        if ord(s1[i])>59 and ord(s1[i])<91 :\n",
    "            count1=count1+1\n",
    "        elif ord(s1[i])>96 and ord(s1[i])<123 :\n",
    "            count2=count2+1\n",
    "    if count1==count2 :\n",
    "        print('samecount')\n",
    "    else :\n",
    "        print('programming')\n",
    "    \n",
    "counting(input())    "
   ]
  },
  {
   "cell_type": "code",
   "execution_count": 94,
   "metadata": {},
   "outputs": [
    {
     "name": "stdout",
     "output_type": "stream",
     "text": [
      "345678ijhgc\n",
      "3 4 5 6 7 8 \n",
      "33 :p\n",
      "33\n"
     ]
    }
   ],
   "source": [
    "# extract digits from string and sum them\n",
    "def extract(s):\n",
    "    u=0\n",
    "    count=0\n",
    "    asi=0\n",
    "    for i in range(len(s)) :\n",
    "        if ord(s[i])>47 and ord(s[i])<58 :\n",
    "            u=u+1\n",
    "            print(s[i],end=' ')\n",
    "            count=int(s[i])+count \n",
    "            asi=asi+ord(s[i])\n",
    "    asi=asi-u*48        \n",
    "    print('')        \n",
    "    print(count,':p') \n",
    "    print(asi)\n",
    "    \n",
    "extract(input())            "
   ]
  },
  {
   "cell_type": "code",
   "execution_count": 107,
   "metadata": {},
   "outputs": [
    {
     "name": "stdout",
     "output_type": "stream",
     "text": [
      "3\n"
     ]
    }
   ],
   "source": [
    "#function to convert 2nd word to uppercase\n",
    "def conu(s):\n",
    "    count=0\n",
    "    for i in range(len(s)):\n",
    "        if ord(s[i])==32:\n",
    "            count+=1\n",
    "        if count==1:\n",
    "            if ord(s[i])>64 and ord(s[i])<91:\n",
    "                print(s[i],end='')\n",
    "            if ord(s[i])>96 and ord(s[i])<123:\n",
    "                print(chr(ord(s[i])-32),end='')\n",
    "        if count ==2:\n",
    "            break;    \n",
    "conu(input())          \n",
    "       "
   ]
  },
  {
   "cell_type": "markdown",
   "metadata": {},
   "source": [
    "## list\n",
    "- one of the data structure\n",
    "- store,sort and search\n",
    "- items of the list seperated by comma and enclosed in square brackets\n",
    " - example\n",
    "  - list1=[1,2,3,4]\n",
    "  - list2=['gitam,6,6.6,'jgkg']"
   ]
  },
  {
   "cell_type": "code",
   "execution_count": 8,
   "metadata": {},
   "outputs": [
    {
     "name": "stdout",
     "output_type": "stream",
     "text": [
      "[1, 2, 3, 4]\n",
      "1\n",
      "4\n",
      "[3, 4]\n",
      "[3, 4]\n",
      "[2, 3, 4]\n",
      "[4, 3, 2, 1]\n",
      "[1, 3]\n",
      "[1, 2, 3]\n"
     ]
    }
   ],
   "source": [
    "li=[1,2,3,4]\n",
    "print(li)\n",
    "print(li[0])\n",
    "print(li[-1])\n",
    "print(li[2:4])\n",
    "print(li[2:])\n",
    "print(li[-3:])\n",
    "print(li[-1::-1])\n",
    "print(li[::2])\n",
    "print(li[:-1])"
   ]
  },
  {
   "cell_type": "code",
   "execution_count": 9,
   "metadata": {},
   "outputs": [
    {
     "name": "stdout",
     "output_type": "stream",
     "text": [
      "['hhdgh', 234, 'rtyhh', 23.45]\n",
      "['hhdgh', 234, 'rtyhh', 6788]\n",
      "1\n"
     ]
    }
   ],
   "source": [
    "#updating list item\n",
    "li=['hhdgh',234,'rtyhh',23.45]\n",
    "print(li)\n",
    "li[3]=6788\n",
    "print(li)\n",
    "print(1)"
   ]
  },
  {
   "cell_type": "code",
   "execution_count": 122,
   "metadata": {},
   "outputs": [
    {
     "name": "stdout",
     "output_type": "stream",
     "text": [
      "['hhdgh', 234, 'rtyhh']\n"
     ]
    }
   ],
   "source": [
    "#delete items in list\n",
    "del li[3]\n",
    "print (li)"
   ]
  },
  {
   "cell_type": "code",
   "execution_count": 136,
   "metadata": {},
   "outputs": [
    {
     "name": "stdout",
     "output_type": "stream",
     "text": [
      "4\n",
      "['ghj', 234, 89.0, 'hjiuy', 'ghj', 234, 89.0, 'hjiuy']\n",
      "True\n"
     ]
    }
   ],
   "source": [
    "#basic list operations\n",
    "li=['ghj',234,89.0,'hjiuy']\n",
    "print(len(li)) #length of list\n",
    "print(li * 2) #list repitation\n",
    "#item present in list or not\n",
    "print(234 in li)\n"
   ]
  },
  {
   "cell_type": "code",
   "execution_count": 140,
   "metadata": {},
   "outputs": [
    {
     "name": "stdout",
     "output_type": "stream",
     "text": [
      "hfgjg\n",
      "kgjhjgkf\n"
     ]
    }
   ],
   "source": [
    "li=['kgjhjgkf','ighuir','hfgjg','hfjgkb']\n",
    "print(min(li))\n",
    "print(max(li))\n"
   ]
  },
  {
   "cell_type": "code",
   "execution_count": 64,
   "metadata": {},
   "outputs": [
    {
     "name": "stdout",
     "output_type": "stream",
     "text": [
      "max is 98\n",
      "45\n"
     ]
    }
   ],
   "source": [
    "#fuction to get largenumber from list\n",
    "def large(li):\n",
    "    li.sort()\n",
    "    print('max is',li[-1])\n",
    "    \n",
    "def genericlarge(li,n):\n",
    "    li.sort()\n",
    "    print(li[-n])\n",
    "lis=[1,8,98,78,45]\n",
    "large(lis)\n",
    "genericlarge(lis,3)\n",
    "    \n"
   ]
  },
  {
   "cell_type": "code",
   "execution_count": 8,
   "metadata": {},
   "outputs": [
    {
     "name": "stdout",
     "output_type": "stream",
     "text": [
      "[34, 7, 6, 98, 56, 95, 35]\n",
      "[34, 6, 98, 56, 95]\n",
      "[95, 56, 98, 6, 34]\n",
      "[95, 56, 98, 6, 34, 46, 86, 5]\n"
     ]
    }
   ],
   "source": [
    "list1=[34,7,6,98,56,95]\n",
    "list1.append(35)\n",
    "print(list1)\n",
    "list1.pop()\n",
    "list1.remove(7)\n",
    "print(list1)\n",
    "list1.reverse()\n",
    "print(list1)\n",
    "li1=[46,86,5]\n",
    "list1.extend(li1)\n",
    "print(list1)"
   ]
  },
  {
   "cell_type": "code",
   "execution_count": 9,
   "metadata": {},
   "outputs": [
    {
     "name": "stdout",
     "output_type": "stream",
     "text": [
      "5\n",
      "34\n"
     ]
    }
   ],
   "source": [
    "def least(li):\n",
    "    li.sort()\n",
    "    print(li[0])\n",
    "def genericleast(li,n):\n",
    "    li.sort()\n",
    "    print(li[n])\n",
    "least(list1)\n",
    "genericleast(list1,2)"
   ]
  },
  {
   "cell_type": "markdown",
   "metadata": {},
   "source": [
    "# file handling in python\n",
    "- file-document which contains some info\n",
    "- different type of files .... .txt,.pdf,.doc,.ppf and etc..\n",
    "- input-keyboard\n",
    "- output-file system"
   ]
  },
  {
   "cell_type": "code",
   "execution_count": 16,
   "metadata": {},
   "outputs": [
    {
     "name": "stdout",
     "output_type": "stream",
     "text": [
      "enter filename to be createdata\n",
      "data file is created and data is inserted\n"
     ]
    }
   ],
   "source": [
    "#function to create and write data to file\n",
    "#mode  w it creates a file and write some data to it\n",
    "#if file is already exsits then it will be rewrited\n",
    "def createfile(name):\n",
    "    f=open(name,'w')\n",
    "    for i in range(10):\n",
    "        f.write('%d \\n'% i)\n",
    "    print(name,'file is created and data is inserted')    \n",
    "createfile(input('enter filename to be create '))"
   ]
  },
  {
   "cell_type": "code",
   "execution_count": 36,
   "metadata": {},
   "outputs": [
    {
     "name": "stdout",
     "output_type": "stream",
     "text": [
      "enter file name data.txt\n",
      "data is added\n"
     ]
    }
   ],
   "source": [
    "#mode--a if file is not available it creates the file\n",
    "#        if file is available it appends data at end of previous data\n",
    "def appendfile(name):\n",
    "    f=open(name,'a')\n",
    "    f.write('pora jaffa\\n')\n",
    "    print('data is added')\n",
    "appendfile(input('enter file name '))    "
   ]
  },
  {
   "cell_type": "code",
   "execution_count": 45,
   "metadata": {},
   "outputs": [
    {
     "name": "stdout",
     "output_type": "stream",
     "text": [
      "0 \n",
      "1 \n",
      "2 \n",
      "3 \n",
      "4 \n",
      "5 \n",
      "6 \n",
      "7 \n",
      "8 \n",
      "9 \n",
      "new data\n",
      "pora jaffa\n",
      "\n"
     ]
    }
   ],
   "source": [
    "#function to read the file\n",
    "def readfile(name):\n",
    "    f=open(name,'r')\n",
    "    if f.mode=='r':\n",
    "        a=f.read()\n",
    "        print(a)\n",
    "    f.close()\n",
    "readfile('data.txt')    \n",
    "\n"
   ]
  },
  {
   "cell_type": "code",
   "execution_count": 40,
   "metadata": {},
   "outputs": [
    {
     "name": "stdout",
     "output_type": "stream",
     "text": [
      "['gehg', 'ghdehdeh', 'jcuhru', 'ujuiun']\n"
     ]
    }
   ],
   "source": [
    "#analysis a file -- word count,char count,digit count.........\n",
    "s1=\"gehg ghdehdeh jcuhru ujuiun\"\n",
    "print(s1.split())"
   ]
  },
  {
   "cell_type": "code",
   "execution_count": 41,
   "metadata": {},
   "outputs": [
    {
     "data": {
      "text/plain": [
       "14"
      ]
     },
     "execution_count": 41,
     "metadata": {},
     "output_type": "execute_result"
    }
   ],
   "source": [
    "#function to find word count in a file\n",
    "def wordcount(name):\n",
    "    with open(name,'r') as f:\n",
    "        if f.mode=='r':\n",
    "            a=f.read()\n",
    "            li=a.split()\n",
    "    return len(li)\n",
    "wordcount('data.txt')"
   ]
  },
  {
   "cell_type": "code",
   "execution_count": 52,
   "metadata": {},
   "outputs": [
    {
     "name": "stdout",
     "output_type": "stream",
     "text": [
      "0\n"
     ]
    }
   ],
   "source": [
    "#function to give specific word count\n",
    "def speccount(filename,w):\n",
    "    count=0\n",
    "    with open(filename,'r') as f:\n",
    "        if f.mode=='r':\n",
    "            a=f.read()\n",
    "            lit=a.split()\n",
    "    for i in range(len(lit)):\n",
    "        if lit[i]==w :\n",
    "            count=count+1\n",
    "    print(count)\n",
    "speccount('data.txt','')    "
   ]
  },
  {
   "cell_type": "code",
   "execution_count": 56,
   "metadata": {},
   "outputs": [
    {
     "data": {
      "text/plain": [
       "1"
      ]
     },
     "execution_count": 56,
     "metadata": {},
     "output_type": "execute_result"
    }
   ],
   "source": [
    "def speccount(filename,w):\n",
    "    count=0\n",
    "    with open(filename,'r') as f:\n",
    "        if f.mode=='r':\n",
    "            a=f.read()\n",
    "            lit=a.split()\n",
    "    return lit.count(w)\n",
    "speccount('data.txt','pora')    "
   ]
  },
  {
   "cell_type": "code",
   "execution_count": 1,
   "metadata": {},
   "outputs": [
    {
     "name": "stdout",
     "output_type": "stream",
     "text": [
      "['g', 'f', 'b', '4', 'y', 'h', 'u', 'f', 'y', 'u', 'f', 'f', 'b', 'g']\n"
     ]
    }
   ],
   "source": [
    "s3='gfb4yhufyuffbg'\n",
    "l=list(s3)\n",
    "print(l)"
   ]
  },
  {
   "cell_type": "code",
   "execution_count": 2,
   "metadata": {},
   "outputs": [
    {
     "data": {
      "text/plain": [
       "50"
      ]
     },
     "execution_count": 2,
     "metadata": {},
     "output_type": "execute_result"
    }
   ],
   "source": [
    "#function to find character count in a file\n",
    "def charcount(name):\n",
    "    with open(name,'r') as f:\n",
    "        if f.mode=='r':\n",
    "            a=f.read();\n",
    "            li=list(a)\n",
    "    return len(li)\n",
    "charcount('data.txt')\n",
    "            "
   ]
  },
  {
   "cell_type": "code",
   "execution_count": 83,
   "metadata": {},
   "outputs": [
    {
     "data": {
      "text/plain": [
       "13"
      ]
     },
     "execution_count": 83,
     "metadata": {},
     "output_type": "execute_result"
    }
   ],
   "source": [
    "#to find line count\n",
    "def linecount(name):\n",
    "    with open(name,'r') as f:\n",
    "        if f.mode=='r':\n",
    "            a=f.read()\n",
    "            li=a.split('\\n')\n",
    "    return len(li)\n",
    "linecount('data.txt')                       \n",
    "            \n"
   ]
  },
  {
   "cell_type": "code",
   "execution_count": 6,
   "metadata": {},
   "outputs": [
    {
     "name": "stdout",
     "output_type": "stream",
     "text": [
      "uppercase 0\n",
      "lowercase 16\n"
     ]
    }
   ],
   "source": [
    "#to find upper case and lower caser\n",
    "def uplowcase(name):\n",
    "    countu=0\n",
    "    countl=0\n",
    "    with open(name,'r') as f:\n",
    "        if f.mode=='r':\n",
    "            a=f.read()\n",
    "            l=list(a)\n",
    "    for i in range(len(l)):\n",
    "        if ord(l[i])>64 and ord(l[i])<91:\n",
    "            countu+=1\n",
    "        elif ord(l[i])>96 and ord(l[i])<123:\n",
    "            countl+=1\n",
    "    print('uppercase',countu)\n",
    "    print('lowercase',countl)\n",
    "    return\n",
    "uplowcase('data.txt')\n",
    "            "
   ]
  },
  {
   "cell_type": "code",
   "execution_count": 20,
   "metadata": {},
   "outputs": [
    {
     "name": "stdout",
     "output_type": "stream",
     "text": [
      "uppercase 0\n",
      "lowercase 16\n"
     ]
    }
   ],
   "source": [
    "def uplowcase(name):\n",
    "    countu=0\n",
    "    countl=0\n",
    "    with open(name,'r') as f:\n",
    "        if f.mode=='r':\n",
    "            a=f.read()\n",
    "            l=list(a)\n",
    "    for i in l:\n",
    "        if i.isupper():\n",
    "            countu+=1\n",
    "        elif i.islower():\n",
    "            countl+=1\n",
    "    print('uppercase',countu)\n",
    "    print('lowercase',countl)\n",
    "    return\n",
    "uplowcase('data.txt')\n",
    "            "
   ]
  },
  {
   "cell_type": "markdown",
   "metadata": {},
   "source": [
    "## questions"
   ]
  },
  {
   "cell_type": "code",
   "execution_count": 15,
   "metadata": {},
   "outputs": [
    {
     "name": "stdout",
     "output_type": "stream",
     "text": [
      "orange\n",
      "psbohf"
     ]
    }
   ],
   "source": [
    "def func(n):\n",
    "    for i in range(len(n)):\n",
    "        print(chr(ord(n[i])+1),end='')\n",
    "    return\n",
    "func(input())"
   ]
  },
  {
   "cell_type": "code",
   "execution_count": 19,
   "metadata": {},
   "outputs": [
    {
     "name": "stdout",
     "output_type": "stream",
     "text": [
      "fgh ghj ijh oijh\n",
      "fgh \n",
      "ijh \n"
     ]
    }
   ],
   "source": [
    "def alter(s):\n",
    "    li=s.split()\n",
    "    l2=li[::2]\n",
    "    for i in l2:\n",
    "        print(i.lower(),'')\n",
    "    return\n",
    "alter(input())"
   ]
  },
  {
   "cell_type": "code",
   "execution_count": 2,
   "metadata": {},
   "outputs": [
    {
     "name": "stdout",
     "output_type": "stream",
     "text": [
      "applicat9io3n\n",
      "12\n"
     ]
    }
   ],
   "source": [
    "def digitsum(s):\n",
    "    sum=0\n",
    "    a=list(s)\n",
    "    for i in a:\n",
    "        if i.isnumeric():\n",
    "            sum=sum+int(i)\n",
    "    print(sum)\n",
    "digitsum(input())"
   ]
  },
  {
   "cell_type": "code",
   "execution_count": 5,
   "metadata": {},
   "outputs": [
    {
     "name": "stdout",
     "output_type": "stream",
     "text": [
      "dfghERTYUbNjvBN\n",
      "DFGHertyuBnJVbn"
     ]
    }
   ],
   "source": [
    "def conv(s):\n",
    "    a=list(s)\n",
    "    for i in a:\n",
    "        if i.isupper():\n",
    "            print(chr(ord(i)+32),end='')\n",
    "        elif i.islower(): \n",
    "            print(chr(ord(i)-32),end='')\n",
    "conv(input())    "
   ]
  },
  {
   "cell_type": "code",
   "execution_count": null,
   "metadata": {},
   "outputs": [],
   "source": []
  },
  {
   "cell_type": "code",
   "execution_count": null,
   "metadata": {},
   "outputs": [],
   "source": []
  },
  {
   "cell_type": "code",
   "execution_count": null,
   "metadata": {},
   "outputs": [],
   "source": []
  },
  {
   "cell_type": "code",
   "execution_count": null,
   "metadata": {},
   "outputs": [],
   "source": []
  }
 ],
 "metadata": {
  "kernelspec": {
   "display_name": "Python 3",
   "language": "python",
   "name": "python3"
  },
  "language_info": {
   "codemirror_mode": {
    "name": "ipython",
    "version": 3
   },
   "file_extension": ".py",
   "mimetype": "text/x-python",
   "name": "python",
   "nbconvert_exporter": "python",
   "pygments_lexer": "ipython3",
   "version": "3.7.3"
  }
 },
 "nbformat": 4,
 "nbformat_minor": 2
}
